{
 "cells": [
  {
   "cell_type": "markdown",
   "metadata": {},
   "source": [
    "1. String\n",
    "https://www.geeksforgeeks.org/c-sharp-string-class/"
   ]
  },
  {
   "cell_type": "code",
   "execution_count": 2,
   "metadata": {
    "dotnet_interactive": {
     "language": "csharp"
    },
    "vscode": {
     "languageId": "dotnet-interactive.csharp"
    }
   },
   "outputs": [
    {
     "name": "stdout",
     "output_type": "stream",
     "text": [
      "13\n",
      "e\n"
     ]
    }
   ],
   "source": [
    "String s = \"GeeksforGeeks\";\n",
    "Console.WriteLine(s.Length);\n",
    "Console.WriteLine(s[1]);\n",
    "\n",
    "char[] arr1 = s.ToCharArray();\n",
    "\n",
    "char[] chars = { 'G', 'E', 'E', 'K', 'S' };\n",
    "string str1 = new string(chars);"
   ]
  },
  {
   "cell_type": "markdown",
   "metadata": {},
   "source": [
    "All C# Collections classes doc: \n",
    "https://learn.microsoft.com/zh-cn/dotnet/api/system.collections.generic.list-1?view=net-7.0\n",
    "\n",
    "2. List\n",
    "\n",
    "IList is the interface (In JAVA, List is interface)\n",
    "List< T> 是 ArrayList 的泛型版本, implements IList\n",
    "LinkedList< T>泛型类是真正的链接的列表，并具有任何非泛型对应项, NOT implement IList。双端队列\n",
    "\n",
    "List Properties:\n",
    "    Count\n",
    "    Item[], e.g. list[3]\n",
    "List functions:\n",
    "    Add\n",
    "    AddRange\n",
    "    Contains\n",
    "    Find\n",
    "    FindAll\n",
    "    FindIndex\n",
    "    IndexOf\n",
    "    Remove\n",
    "    RemoveAll\n",
    "    RemoveAt \n",
    "    public T[] ToArray ();   \n",
    "\n",
    "LinkedList<T> Properties:\n",
    "    Count\n",
    "    First\n",
    "    Last\n",
    "    没有按照Index访问的方法\n",
    "LinkedList<T> Functions:\n",
    "    AddFirst\n",
    "    AddLast\n",
    "    RemoveFirst\n",
    "    RemoveLast\n"
   ]
  },
  {
   "cell_type": "code",
   "execution_count": 11,
   "metadata": {
    "dotnet_interactive": {
     "language": "csharp"
    },
    "vscode": {
     "languageId": "dotnet-interactive.csharp"
    }
   },
   "outputs": [
    {
     "name": "stdout",
     "output_type": "stream",
     "text": [
      "Count: 1\n"
     ]
    }
   ],
   "source": [
    "List<string> list = new List<string>();\n",
    "list.Add(\"1\");\n",
    "Console.WriteLine(\"Count: {0}\", list.Count);\n"
   ]
  },
  {
   "cell_type": "markdown",
   "metadata": {},
   "source": [
    "3. Queue"
   ]
  },
  {
   "cell_type": "code",
   "execution_count": 13,
   "metadata": {
    "dotnet_interactive": {
     "language": "csharp"
    },
    "vscode": {
     "languageId": "dotnet-interactive.csharp"
    }
   },
   "outputs": [
    {
     "name": "stdout",
     "output_type": "stream",
     "text": [
      "1\n"
     ]
    }
   ],
   "source": [
    "Queue<string> numbers = new Queue<string>();\n",
    "numbers.Enqueue(\"one\");\n",
    "numbers.Enqueue(\"two\");\n",
    "numbers.Dequeue();\n",
    "Console.WriteLine(numbers.Count);\n",
    "numbers.Peek();\n",
    "numbers.TryDequeue(out string s);\n",
    "numbers.TryPeek(out string s2);\n",
    "\n",
    "\n",
    "// priority queue\n",
    "// PriorityQueue<TElement,TPriority>()\n",
    "// Enqueue(TElement, TPriority)\n",
    "// Dequeue()"
   ]
  },
  {
   "cell_type": "markdown",
   "metadata": {},
   "source": [
    "4. Stack\n",
    "\n",
    "Stack is a class, (in JAVA, Stack is a class too).\n",
    "\n",
    "Similar APIs with Java,\n",
    "\n",
    "Count;  -> property\n",
    "Peek()\n",
    "Pop()\n",
    "Push()TryPeek()\n",
    "TryPop()"
   ]
  },
  {
   "cell_type": "markdown",
   "metadata": {},
   "source": [
    "5. Set\n",
    "\n",
    "(in Java, Set is interface, class is HashSet, TreeSet)\n",
    "\n",
    "In C#\n",
    "ISet is interface, class is HashSet, SortedSet\n",
    "\n",
    "//// HashSet Functions, similar with Java\n",
    "Add\n",
    "Contains\n",
    "Remove\n",
    "\n",
    "//// SortedSet Properties,\n",
    "Count\n",
    "Max\n",
    "Min\n",
    "//// SortedSet Functions,\n",
    "Add\n",
    "Remove\n",
    "Contains\n",
    "\n",
    "关于类似Java TreeSet的 floor, ceiling , higher, lower 方法， SortedSet是没有的。\n",
    "下面的方法可以间接实现，但是是 O（N）\n",
    "floor for SortedSet<long>: sortedSet.GetViewBetween(long.MinValue, num).Max\n",
    "ceiling for SortedSet<long>: sortedSet.GetViewBetween(num, long.MaxValue).Min\n",
    "\n",
    "SortedSet<string> aviFiles = mediaFiles1.GetViewBetween(\"avi\", \"avj\");\n",
    "Console.WriteLine(\"AVI files:\");\n",
    "foreach (string avi in aviFiles)\n",
    "{\n",
    "    Console.WriteLine($\"\\t{avi}\");\n",
    "}\n"
   ]
  },
  {
   "cell_type": "markdown",
   "metadata": {},
   "source": [
    "6. Map\n",
    "\n",
    "IDictonary interface \n",
    "Properties:\n",
    "    Item[]\n",
    "    public System.Collections.Generic.ICollection<TKey> Keys { get; }\n",
    "    public System.Collections.Generic.ICollection<TValue> Values { get; }\n",
    "Functions:\n",
    "    Add // 添加重复键时引发 ArgumentException\n",
    "    ContainsKey\n",
    "    Remove\n",
    "    TryGetValue\n",
    "\n",
    "\n",
    "实现类有\n",
    "Dictionary 和 SortedDictionary\n",
    "Properties：\n",
    "Count"
   ]
  },
  {
   "cell_type": "code",
   "execution_count": null,
   "metadata": {
    "dotnet_interactive": {
     "language": "csharp"
    },
    "vscode": {
     "languageId": "dotnet-interactive.csharp"
    }
   },
   "outputs": [],
   "source": [
    "IDictionary<string, string> openWith = new Dictionary<string, string>();\n",
    "\n",
    "\n",
    "\n",
    "// java put\n",
    "openWith[\"rtf\"] = \"winword.exe\";\n",
    "\n",
    "// java get\n",
    "string value = \"\";\n",
    "openWith.TryGetValue(\"tif\", out value);\n",
    "Console.WriteLine(openWith[\"tif\"]);\n",
    "\n",
    "openWith.ContainsKey(\"ht\");\n",
    "\n",
    "foreach( KeyValuePair<string, string> kvp in openWith )\n",
    "{\n",
    "    Console.WriteLine(\"Key = {0}, Value = {1}\",\n",
    "        kvp.Key, kvp.Value);\n",
    "}"
   ]
  },
  {
   "cell_type": "markdown",
   "metadata": {},
   "source": [
    "7. KeyValue Pair\n"
   ]
  },
  {
   "cell_type": "markdown",
   "metadata": {},
   "source": [
    "8. Array\n",
    "\n",
    "//create array\n",
    "string[] cars = new string[4];\n",
    "string[] cars = new string[4] {\"Volvo\", \"BMW\", \"Ford\", \"Mazda\"};\n",
    "string[] cars = new string[] {\"Volvo\", \"BMW\", \"Ford\", \"Mazda\"};\n",
    "string[] cars = {\"Volvo\", \"BMW\", \"Ford\", \"Mazda\"};\n",
    "\n",
    "\n",
    "string[] cars = {\"Volvo\", \"BMW\", \"Ford\", \"Mazda\"};\n",
    "Console.WriteLine(cars.Length);"
   ]
  },
  {
   "cell_type": "markdown",
   "metadata": {},
   "source": [
    "int max = Int32.MaxValue;\n",
    "int min = Int32.MinValue;"
   ]
  }
 ],
 "metadata": {
  "kernelspec": {
   "display_name": ".NET (C#)",
   "language": "C#",
   "name": ".net-csharp"
  },
  "language_info": {
   "file_extension": ".cs",
   "mimetype": "text/x-csharp",
   "name": "C#",
   "pygments_lexer": "csharp",
   "version": "9.0"
  },
  "orig_nbformat": 4
 },
 "nbformat": 4,
 "nbformat_minor": 2
}
